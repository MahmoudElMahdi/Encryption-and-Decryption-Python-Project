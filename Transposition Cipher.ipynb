{
 "cells": [
  {
   "cell_type": "markdown",
   "id": "fc1b63ae",
   "metadata": {},
   "source": [
    "# Create the TranspositionCipher class"
   ]
  },
  {
   "cell_type": "code",
   "execution_count": 604,
   "id": "24484932",
   "metadata": {},
   "outputs": [],
   "source": [
    "import math \n",
    "import numpy as np\n",
    "class TranspositionCipher(object): \n",
    "        \n",
    "    def __init__(self, key):\n",
    "        self.key = key\n",
    "        \n",
    "    def encrypt_message(self, message):\n",
    "        self.message = message\n",
    "        message_break = \"\"\n",
    "        for char in message.lower():\n",
    "            message_break += char\n",
    "        \n",
    "        encrypted = \"\"\n",
    "        message_length = len(message_break)        \n",
    "        ceiled__value = math.ceil(message_length/self.key)\n",
    "        for j in range(self.key):\n",
    "            for i in range(ceiled__value):\n",
    "                index = (i*self.key) + j\n",
    "                if index < message_length:\n",
    "                    encrypted += message_break[index]\n",
    "        \n",
    "        return encrypted\n",
    "        \n",
    "    def decrypt_message(self, encrypted):\n",
    "        self.encrypted = encrypted\n",
    "        message_break = []\n",
    "        for char in encrypted:\n",
    "            message_break.append(char)\n",
    "        \n",
    "        print(message_break)\n",
    "        message_decrypted = ''\n",
    "        message_length = len(message_break)        \n",
    "        ceiled__value = math.ceil(message_length/self.key)\n",
    "        num_empty_cells = (ceiled__value * self.key) - message_length\n",
    "        message_grid = np.empty(shape = (self.key,ceiled__value), dtype='object')\n",
    "        iterator = iter(message_break)\n",
    "        counter = 0\n",
    "        for i in range(self.key):\n",
    "            for j in range(ceiled__value):\n",
    "                counter += 1\n",
    "                if (j == (ceiled__value - 1)) and (i >= self.key - num_empty_cells):\n",
    "                    message_grid[i][j] = \"\"\n",
    "                else:\n",
    "                    message_grid[i][j] = next(iterator)\n",
    "        print(message_grid)\n",
    "        for i in range(ceiled__value):\n",
    "            for j in range(self.key):\n",
    "                message_decrypted += message_grid[j][i]\n",
    "        return message_decrypted"
   ]
  },
  {
   "cell_type": "markdown",
   "id": "addc9042",
   "metadata": {},
   "source": [
    "# Test the code by encrypting and decrypting a message"
   ]
  },
  {
   "cell_type": "code",
   "execution_count": 605,
   "id": "8c8f8aa3",
   "metadata": {},
   "outputs": [],
   "source": [
    "my_enc = TranspositionCipher(12)"
   ]
  },
  {
   "cell_type": "code",
   "execution_count": 606,
   "id": "f7910c31",
   "metadata": {},
   "outputs": [
    {
     "name": "stdout",
     "output_type": "stream",
     "text": [
      "i  ahw ohthlteo hnyhiseat tas airihiyh lfiteathmsech smsn’cam atmos srto  roesee  shtsmtoer a detwkenshd.at   eo lswenh,r hesfeu\n",
      "  hvshlvwd axda  feete dttteohefeh lrc ddwrnneswdhhh io  diuedih rho ldsoererdcwwd\n",
      "csa\n",
      "tityimhy. rrorioeeaebh.niesh\n",
      "c e\n",
      "ad uelc\n",
      "dsey  enm eght itspg ltw  p hhd ee l hwn\n"
     ]
    }
   ],
   "source": [
    "encrypted_message = my_enc.encrypt_message('''I confess at these words a shudder passed\n",
    "through me. There was a thrill in the doctor’s voice\n",
    "which showed that he was himself deeply moved\n",
    "by that which he told us. Holmes leaned forward\n",
    "in his excitement and his eyes had the hard, dry\n",
    "glitter which shot from them when he was keenly\n",
    "interested.''')\n",
    "print(encrypted_message)"
   ]
  },
  {
   "cell_type": "code",
   "execution_count": 609,
   "id": "91f7a5a2",
   "metadata": {},
   "outputs": [
    {
     "name": "stdout",
     "output_type": "stream",
     "text": [
      "['i', ' ', ' ', 'a', 'h', 'w', ' ', 'o', 'h', 't', 'h', 'l', 't', 'e', 'o', ' ', 'h', 'n', 'y', 'h', 'i', 's', 'e', 'a', 't', ' ', 't', 'a', 's', ' ', 'a', 'i', 'r', 'i', 'h', 'i', 'y', 'h', ' ', 'l', 'f', 'i', 't', 'e', 'a', 't', 'h', 'm', 's', 'e', 'c', 'h', ' ', 's', 'm', 's', 'n', '’', 'c', 'a', 'm', ' ', 'a', 't', 'm', 'o', 's', ' ', 's', 'r', 't', 'o', ' ', ' ', 'r', 'o', 'e', 's', 'e', 'e', ' ', ' ', 's', 'h', 't', 's', 'm', 't', 'o', 'e', 'r', ' ', 'a', ' ', 'd', 'e', 't', 'w', 'k', 'e', 'n', 's', 'h', 'd', '.', 'a', 't', ' ', ' ', ' ', 'e', 'o', ' ', 'l', 's', 'w', 'e', 'n', 'h', ',', 'r', ' ', 'h', 'e', 's', 'f', 'e', 'u', '\\n', ' ', ' ', 'h', 'v', 's', 'h', 'l', 'v', 'w', 'd', ' ', 'a', 'x', 'd', 'a', ' ', ' ', 'f', 'e', 'e', 't', 'e', ' ', 'd', 't', 't', 't', 'e', 'o', 'h', 'e', 'f', 'e', 'h', ' ', 'l', 'r', 'c', ' ', 'd', 'd', 'w', 'r', 'n', 'n', 'e', 's', 'w', 'd', 'h', 'h', 'h', ' ', 'i', 'o', ' ', ' ', 'd', 'i', 'u', 'e', 'd', 'i', 'h', ' ', 'r', 'h', 'o', ' ', 'l', 'd', 's', 'o', 'e', 'r', 'e', 'r', 'd', 'c', 'w', 'w', 'd', '\\n', 'c', 's', 'a', '\\n', 't', 'i', 't', 'y', 'i', 'm', 'h', 'y', '.', ' ', 'r', 'r', 'o', 'r', 'i', 'o', 'e', 'e', 'a', 'e', 'b', 'h', '.', 'n', 'i', 'e', 's', 'h', '\\n', 'c', ' ', 'e', '\\n', 'a', 'd', ' ', 'u', 'e', 'l', 'c', '\\n', 'd', 's', 'e', 'y', ' ', ' ', 'e', 'n', 'm', ' ', 'e', 'g', 'h', 't', ' ', 'i', 't', 's', 'p', 'g', ' ', 'l', 't', 'w', ' ', ' ', 'p', ' ', 'h', 'h', 'd', ' ', 'e', 'e', ' ', 'l', ' ', 'h', 'w', 'n']\n",
      "[['i' ' ' ' ' 'a' 'h' 'w' ' ' 'o' 'h' 't' 'h' 'l' 't' 'e' 'o' ' ' 'h' 'n'\n",
      "  'y' 'h' 'i' 's' 'e' 'a' 't']\n",
      " [' ' 't' 'a' 's' ' ' 'a' 'i' 'r' 'i' 'h' 'i' 'y' 'h' ' ' 'l' 'f' 'i' 't'\n",
      "  'e' 'a' 't' 'h' 'm' 's' 'e']\n",
      " ['c' 'h' ' ' 's' 'm' 's' 'n' '’' 'c' 'a' 'm' ' ' 'a' 't' 'm' 'o' 's' ' '\n",
      "  's' 'r' 't' 'o' ' ' ' ' 'r']\n",
      " ['o' 'e' 's' 'e' 'e' ' ' ' ' 's' 'h' 't' 's' 'm' 't' 'o' 'e' 'r' ' ' 'a'\n",
      "  ' ' 'd' 'e' 't' 'w' 'k' 'e']\n",
      " ['n' 's' 'h' 'd' '.' 'a' 't' ' ' ' ' ' ' 'e' 'o' ' ' 'l' 's' 'w' 'e' 'n'\n",
      "  'h' ',' 'r' ' ' 'h' 'e' 's']\n",
      " ['f' 'e' 'u' '\\n' ' ' ' ' 'h' 'v' 's' 'h' 'l' 'v' 'w' 'd' ' ' 'a' 'x'\n",
      "  'd' 'a' ' ' ' ' 'f' 'e' 'e' 't']\n",
      " ['e' ' ' 'd' 't' 't' 't' 'e' 'o' 'h' 'e' 'f' 'e' 'h' ' ' 'l' 'r' 'c' ' '\n",
      "  'd' 'd' 'w' 'r' 'n' 'n' 'e']\n",
      " ['s' 'w' 'd' 'h' 'h' 'h' ' ' 'i' 'o' ' ' ' ' 'd' 'i' 'u' 'e' 'd' 'i' 'h'\n",
      "  ' ' 'r' 'h' 'o' ' ' 'l' 'd']\n",
      " ['s' 'o' 'e' 'r' 'e' 'r' 'd' 'c' 'w' 'w' 'd' '\\n' 'c' 's' 'a' '\\n' 't'\n",
      "  'i' 't' 'y' 'i' 'm' 'h' 'y' '.']\n",
      " [' ' 'r' 'r' 'o' 'r' 'i' 'o' 'e' 'e' 'a' 'e' 'b' 'h' '.' 'n' 'i' 'e' 's'\n",
      "  'h' '\\n' 'c' ' ' 'e' '\\n' '']\n",
      " ['a' 'd' ' ' 'u' 'e' 'l' 'c' '\\n' 'd' 's' 'e' 'y' ' ' ' ' 'e' 'n' 'm'\n",
      "  ' ' 'e' 'g' 'h' 't' ' ' 'i' '']\n",
      " ['t' 's' 'p' 'g' ' ' 'l' 't' 'w' ' ' ' ' 'p' ' ' 'h' 'h' 'd' ' ' 'e' 'e'\n",
      "  ' ' 'l' ' ' 'h' 'w' 'n' '']]\n",
      "i confess at these words a shudder passed\n",
      "through me. there was a thrill in the doctor’s voice\n",
      "which showed that he was himself deeply moved\n",
      "by that which he told us. holmes leaned forward\n",
      "in his excitement and his eyes had the hard, dry\n",
      "glitter which shot from them when he was keenly\n",
      "interested.\n"
     ]
    }
   ],
   "source": [
    "print(my_enc.decrypt_message(encrypted_message))"
   ]
  },
  {
   "cell_type": "markdown",
   "id": "2c4e8503",
   "metadata": {},
   "source": [
    "# Hack the transposition cipher (optional)"
   ]
  },
  {
   "cell_type": "code",
   "execution_count": 380,
   "id": "54134ab4",
   "metadata": {},
   "outputs": [],
   "source": [
    "def hack_cipher(message_enc):\n",
    "    pass"
   ]
  }
 ],
 "metadata": {
  "kernelspec": {
   "display_name": "base",
   "language": "python",
   "name": "python3"
  },
  "language_info": {
   "codemirror_mode": {
    "name": "ipython",
    "version": 3
   },
   "file_extension": ".py",
   "mimetype": "text/x-python",
   "name": "python",
   "nbconvert_exporter": "python",
   "pygments_lexer": "ipython3",
   "version": "3.11.5"
  }
 },
 "nbformat": 4,
 "nbformat_minor": 5
}
